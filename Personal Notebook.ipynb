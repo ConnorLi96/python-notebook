{
 "cells": [
  {
   "cell_type": "markdown",
   "metadata": {},
   "source": []
  },
  {
   "cell_type": "code",
   "execution_count": 1,
   "metadata": {},
   "outputs": [
    {
     "name": "stdout",
     "output_type": "stream",
     "text": [
      "纤云弄巧\n"
     ]
    }
   ],
   "source": [
    "# gift for my girlfriend\n",
    "# 第一种\n",
    "print(\"纤云弄巧\")"
   ]
  },
  {
   "cell_type": "code",
   "execution_count": 2,
   "metadata": {},
   "outputs": [
    {
     "name": "stdout",
     "output_type": "stream",
     "text": [
      "飞星传恨\n"
     ]
    }
   ],
   "source": [
    "# 第二种\n",
    "a = \"飞星传恨\"\n",
    "print(a)"
   ]
  },
  {
   "cell_type": "code",
   "execution_count": 7,
   "metadata": {},
   "outputs": [
    {
     "name": "stdout",
     "output_type": "stream",
     "text": [
      "银汉迢迢暗度\n"
     ]
    }
   ],
   "source": [
    "# 第三种\n",
    "a = \"银汉迢迢{}\". format (\"暗度\")\n",
    "print(a)"
   ]
  },
  {
   "cell_type": "code",
   "execution_count": 20,
   "metadata": {},
   "outputs": [
    {
     "name": "stdout",
     "output_type": "stream",
     "text": [
      "金风玉露一相逢\n"
     ]
    }
   ],
   "source": [
    "# 第四种\n",
    "a = (\"Connor love Roxy\")\n",
    "if a == (\"Connor love Roxy\"):\n",
    "    print(\"金风玉露一相逢\")"
   ]
  },
  {
   "cell_type": "code",
   "execution_count": 33,
   "metadata": {},
   "outputs": [
    {
     "name": "stdout",
     "output_type": "stream",
     "text": [
      "这一夜便胜却人间无数～\n"
     ]
    }
   ],
   "source": [
    "# 第五种\n",
    "for poem in [\"便胜却人间无数～\",\"这一夜\",\"Roxy love Connor\"]:\n",
    "    \n",
    "    if poem == (\"Roxy love Connor\"):\n",
    "        print(\"这一夜{0}\" .format (\"便胜却人间无数～\"))"
   ]
  },
  {
   "cell_type": "code",
   "execution_count": 91,
   "metadata": {},
   "outputs": [
    {
     "name": "stdout",
     "output_type": "stream",
     "text": [
      "柔情似水\n"
     ]
    }
   ],
   "source": [
    "# 第六种\n",
    "for i in range(1,3):\n",
    "    if i == 2:\n",
    "        \n",
    "        print(\"柔情似水\")"
   ]
  },
  {
   "cell_type": "code",
   "execution_count": 68,
   "metadata": {},
   "outputs": [
    {
     "name": "stdout",
     "output_type": "stream",
     "text": [
      "佳期如梦\n"
     ]
    }
   ],
   "source": [
    "# 第七种\n",
    "def qixi(poem):\n",
    "    \n",
    "    print(\"佳期如梦\")\n",
    "\n",
    "qixi(poem)"
   ]
  },
  {
   "cell_type": "code",
   "execution_count": 70,
   "metadata": {},
   "outputs": [
    {
     "name": "stdout",
     "output_type": "stream",
     "text": [
      "哎,忍顾鹊桥归路\n"
     ]
    }
   ],
   "source": [
    "# 第八种\n",
    "def qixi(poem):\n",
    "    \n",
    "    print(\"{0}忍顾鹊桥归路\".format(poem))\n",
    "s = \"哎,\"\n",
    "qixi(s)"
   ]
  },
  {
   "cell_type": "code",
   "execution_count": 1,
   "metadata": {},
   "outputs": [
    {
     "name": "stdout",
     "output_type": "stream",
     "text": [
      "Roxy说:两情若是长久时\n",
      "Connor回:又岂在朝朝暮暮\n"
     ]
    }
   ],
   "source": [
    "# 第九种\n",
    "def stu(a,b):\n",
    "    print(\"Roxy说:{0}\".format (a))\n",
    "    print(\"Connor回:{0}\".format(b))\n",
    "    \n",
    "R = \"两情若是长久时\"\n",
    "C = \"又岂在朝朝暮暮\"\n",
    "\n",
    "stu(R,C)"
   ]
  },
  {
   "cell_type": "code",
   "execution_count": 1,
   "metadata": {},
   "outputs": [
    {
     "name": "stdout",
     "output_type": "stream",
     "text": [
      "3.141592653589793\n"
     ]
    }
   ],
   "source": [
    "import numpy\n",
    "print(numpy.pi)\n",
    "# numpy 是module \".\"是调用module里函数的方式，pi就是函数。"
   ]
  },
  {
   "cell_type": "code",
   "execution_count": 8,
   "metadata": {},
   "outputs": [
    {
     "name": "stdout",
     "output_type": "stream",
     "text": [
      "0.49999999999999994\n"
     ]
    }
   ],
   "source": [
    "import numpy\n",
    "print(numpy.sin (numpy.pi/6))\n",
    "# 在这个代码中，numpy是module，sin是函数，pi则是参数"
   ]
  },
  {
   "cell_type": "code",
   "execution_count": 14,
   "metadata": {},
   "outputs": [
    {
     "name": "stdout",
     "output_type": "stream",
     "text": [
      "area= 78.53981633974483\n"
     ]
    }
   ],
   "source": [
    "import numpy\n",
    "r = 5\n",
    "area = r**2 * numpy.pi\n",
    "print(\"area=\",area)   # 在“”中的area是一个字符串，后面的area则是我们所求的值"
   ]
  },
  {
   "cell_type": "code",
   "execution_count": 5,
   "metadata": {},
   "outputs": [
    {
     "name": "stdout",
     "output_type": "stream",
     "text": [
      "<class 'numpy.ndarray'>\n",
      "(4,)\n",
      "1 2\n"
     ]
    }
   ],
   "source": [
    "import numpy as np\n",
    "a = np.array([1,2,3,4])\n",
    "print(type(a))\n",
    "print(a.shape)# 用来表示array中有多少个整数\n",
    "print(a[0],a[1])"
   ]
  },
  {
   "cell_type": "code",
   "execution_count": 8,
   "metadata": {},
   "outputs": [
    {
     "name": "stdout",
     "output_type": "stream",
     "text": [
      "<class 'numpy.ndarray'>\n",
      "(2, 3)\n"
     ]
    }
   ],
   "source": [
    "b = np.array([[1,2,3],[4,5,6]])\n",
    "print(type(b))\n",
    "print(b.shape)"
   ]
  },
  {
   "cell_type": "code",
   "execution_count": 25,
   "metadata": {},
   "outputs": [
    {
     "data": {
      "text/plain": [
       "['', ' c ']"
      ]
     },
     "execution_count": 25,
     "metadata": {},
     "output_type": "execute_result"
    }
   ],
   "source": [
    "s = (\"a b\")\n",
    "str.split(s)\n",
    "'a b c '.split(s) "
   ]
  },
  {
   "cell_type": "code",
   "execution_count": 32,
   "metadata": {},
   "outputs": [
    {
     "data": {
      "text/plain": [
       "16"
      ]
     },
     "execution_count": 32,
     "metadata": {},
     "output_type": "execute_result"
    }
   ],
   "source": [
    "test3 = 'python loves,\\'you\\''\n",
    "test3.find('u')\n",
    "'''\n",
    "str.find('other')\n",
    "在字符串中搜索给定的其他字符串，并返回它开始的第一个索引，如果未找到则返回-1\n",
    "\n",
    "'''\n"
   ]
  },
  {
   "cell_type": "code",
   "execution_count": 51,
   "metadata": {},
   "outputs": [
    {
     "data": {
      "text/plain": [
       "\"-'python' 'loves' 'you'-\""
      ]
     },
     "execution_count": 51,
     "metadata": {},
     "output_type": "execute_result"
    }
   ],
   "source": [
    "test5 = \"'python' 'loves' 'you'\"\n",
    "\n",
    "\"-\".join(test5)\n",
    "test5.join(\"--\")\n",
    "# 加入字符,上下两种结果不一样，暂时不知道为啥\n",
    "\n"
   ]
  },
  {
   "cell_type": "code",
   "execution_count": 58,
   "metadata": {},
   "outputs": [
    {
     "name": "stdout",
     "output_type": "stream",
     "text": [
      "Hello World\n",
      "one is 1\n"
     ]
    }
   ],
   "source": [
    "print(\"%s %s\" % ('Hello', 'World'))\n",
    "\n",
    "# %是格式化符号等同于我常用的.format \n",
    "# %s 则是代表字符串\n",
    "print (\"one is %d\"%1) \n",
    "# 这里 %d是代表数字\n"
   ]
  },
  {
   "cell_type": "code",
   "execution_count": 61,
   "metadata": {},
   "outputs": [
    {
     "name": "stdout",
     "output_type": "stream",
     "text": [
      "person_name: xyc, person_age: 18\n"
     ]
    }
   ],
   "source": [
    "person = {\"name\": \"xyc\", \"age\": \"18\"}\n",
    "print(\"person_name: {name}, person_age: {age}\".format(**person))\n",
    "# 这里有解包问题"
   ]
  },
  {
   "cell_type": "code",
   "execution_count": 64,
   "metadata": {},
   "outputs": [
    {
     "data": {
      "text/plain": [
       "\"Hello: 'World'; This is: Python\""
      ]
     },
     "execution_count": 64,
     "metadata": {},
     "output_type": "execute_result"
    }
   ],
   "source": [
    "\"Hello: {!r}; This is: {!s}\".format('World', 'Python')\n"
   ]
  },
  {
   "cell_type": "code",
   "execution_count": 70,
   "metadata": {},
   "outputs": [
    {
     "data": {
      "text/plain": [
       "'           centered           '"
      ]
     },
     "execution_count": 70,
     "metadata": {},
     "output_type": "execute_result"
    }
   ],
   "source": [
    " '{:<30}'.format('left aligned')\n",
    "'left aligned                  '\n",
    "'{:>30}'.format('right aligned')\n",
    "'                 right aligned'\n",
    "'{:^30}'.format('centered')\n",
    "'           centered           '\n",
    "#'{:*^30}'.format('centered')"
   ]
  },
  {
   "cell_type": "code",
   "execution_count": 80,
   "metadata": {},
   "outputs": [
    {
     "data": {
      "text/plain": [
       "'     right aligned'"
      ]
     },
     "execution_count": 80,
     "metadata": {},
     "output_type": "execute_result"
    }
   ],
   "source": [
    "'{:<6}'.format('left aligned')\n",
    "'     right aligned'"
   ]
  },
  {
   "cell_type": "code",
   "execution_count": 81,
   "metadata": {},
   "outputs": [
    {
     "data": {
      "text/plain": [
       "'tele'"
      ]
     },
     "execution_count": 81,
     "metadata": {},
     "output_type": "execute_result"
    }
   ],
   "source": [
    "'{:.4}'.format('telephone')\n",
    "# truncating long string to be specific number of characters."
   ]
  },
  {
   "cell_type": "code",
   "execution_count": 6,
   "metadata": {},
   "outputs": [
    {
     "data": {
      "text/plain": [
       "'      42'"
      ]
     },
     "execution_count": 6,
     "metadata": {},
     "output_type": "execute_result"
    }
   ],
   "source": [
    "'{:8d}'.format(42)\n",
    "# d前面的数字表示缩进"
   ]
  },
  {
   "cell_type": "code",
   "execution_count": 88,
   "metadata": {},
   "outputs": [
    {
     "data": {
      "text/plain": [
       "'003.14'"
      ]
     },
     "execution_count": 88,
     "metadata": {},
     "output_type": "execute_result"
    }
   ],
   "source": [
    "'{:06.2f}'.format(3.141592653589793)\n",
    "# 'f' - 定点表示法。 将数字显示为定点数。 默认精度为6，f之前的数字表示要保留的小数位数。"
   ]
  },
  {
   "cell_type": "code",
   "execution_count": 89,
   "metadata": {},
   "outputs": [
    {
     "data": {
      "text/plain": [
       "'3.1416'"
      ]
     },
     "execution_count": 89,
     "metadata": {},
     "output_type": "execute_result"
    }
   ],
   "source": [
    "'{:06.4f}'.format(3.141592653589793)"
   ]
  },
  {
   "cell_type": "code",
   "execution_count": 4,
   "metadata": {},
   "outputs": [
    {
     "name": "stdout",
     "output_type": "stream",
     "text": [
      "please input the number of monthly visitors:80000\n",
      "this month income is: 134000.0 \n"
     ]
    }
   ],
   "source": [
    "# challenge in week 02  \n",
    "# version1 \n",
    "def revenues(vis):\n",
    "        \n",
    "    b = 50000\n",
    "    if b<= 50000:\n",
    "        reve1 = (vis*0.1*15+vis*0.8)-b\n",
    "        print(\"this month income is: {} \". format (reve1)) \n",
    "    \n",
    "    else:\n",
    "        reve2 = (vis*0.1*15+vis*0.8)-b-0.001*vis\n",
    "        print(\"this month income is: {} \". format (reve2)) \n",
    "        \n",
    "        \n",
    "vis = input(\"please input the number of monthly visitors:\")\n",
    "vis = int(vis)  \n",
    "\n",
    "revenues(vis)\n",
    "\n"
   ]
  },
  {
   "cell_type": "code",
   "execution_count": null,
   "metadata": {},
   "outputs": [],
   "source": []
  },
  {
   "cell_type": "code",
   "execution_count": null,
   "metadata": {},
   "outputs": [],
   "source": [
    "\n"
   ]
  },
  {
   "cell_type": "code",
   "execution_count": null,
   "metadata": {},
   "outputs": [],
   "source": []
  },
  {
   "cell_type": "code",
   "execution_count": null,
   "metadata": {},
   "outputs": [],
   "source": []
  },
  {
   "cell_type": "code",
   "execution_count": null,
   "metadata": {},
   "outputs": [],
   "source": []
  }
 ],
 "metadata": {
  "kernelspec": {
   "display_name": "Python 3",
   "language": "python",
   "name": "python3"
  },
  "language_info": {
   "codemirror_mode": {
    "name": "ipython",
    "version": 3
   },
   "file_extension": ".py",
   "mimetype": "text/x-python",
   "name": "python",
   "nbconvert_exporter": "python",
   "pygments_lexer": "ipython3",
   "version": "3.6.5"
  }
 },
 "nbformat": 4,
 "nbformat_minor": 2
}
