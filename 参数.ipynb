{
 "cells": [
  {
   "cell_type": "code",
   "execution_count": 14,
   "metadata": {},
   "outputs": [
    {
     "name": "stdout",
     "output_type": "stream",
     "text": [
      "1 ..\n",
      "2 4 ..\n",
      "3 6 9 ..\n",
      "4 8 12 16 ..\n",
      "5 10 15 20 25 ..\n",
      "6 12 18 24 30 36 ..\n",
      "7 14 21 28 35 42 49 ..\n",
      "8 16 24 32 40 48 56 64 ..\n",
      "9 18 27 36 45 54 63 72 81 ..\n"
     ]
    }
   ],
   "source": [
    "# 九九乘法表\n",
    "# version 1\n",
    "for row in range(1, 10):\n",
    "    for col in range(1, row+1):\n",
    "        # print 函数默认打印完后 会换行\n",
    "        print(row* col, end = \" \")\n",
    "    print(\"..\")"
   ]
  },
  {
   "cell_type": "code",
   "execution_count": 8,
   "metadata": {},
   "outputs": [
    {
     "name": "stdout",
     "output_type": "stream",
     "text": [
      "Help on built-in function print in module builtins:\n",
      "\n",
      "print(...)\n",
      "    print(value, ..., sep=' ', end='\\n', file=sys.stdout, flush=False)\n",
      "    \n",
      "    Prints the values to a stream, or to sys.stdout by default.\n",
      "    Optional keyword arguments:\n",
      "    file:  a file-like object (stream); defaults to the current sys.stdout.\n",
      "    sep:   string inserted between values, default a space.\n",
      "    end:   string appended after the last value, default a newline.\n",
      "    flush: whether to forcibly flush the stream.\n",
      "\n"
     ]
    }
   ],
   "source": [
    "# 查找函数帮助文档\n",
    "# 1. 用print 函数\n",
    "help (print)\n",
    "# sep的意思 :分隔符    end 结束的时候会自动换行  每打印一个东西就加一个换行 ‘\\n’就是换行的意思"
   ]
  },
  {
   "cell_type": "code",
   "execution_count": 23,
   "metadata": {},
   "outputs": [
    {
     "name": "stdout",
     "output_type": "stream",
     "text": [
      "1 \n",
      "2 4 \n",
      "3 6 9 \n",
      "4 8 12 16 \n",
      "5 10 15 20 25 \n",
      "6 12 18 24 30 36 \n",
      "7 14 21 28 35 42 49 \n",
      "8 16 24 32 40 48 56 64 \n",
      "9 18 27 36 45 54 63 72 81 \n"
     ]
    }
   ],
   "source": [
    "# 定义一个函数\n",
    "\n",
    "# 九九乘法表 version 2.0\n",
    "def printline(row):\n",
    "    for col in range(1, row+1):\n",
    "        # print 函数默认打印完后 会换行\n",
    "        print(row* col, end = \" \")\n",
    "    print(\"\")\n",
    "for row in range(1, 10):\n",
    "    printline(row)\n",
    "\n"
   ]
  },
  {
   "cell_type": "code",
   "execution_count": 21,
   "metadata": {},
   "outputs": [],
   "source": [
    "def printline(row):\n",
    "    for col in range(1, row+1):\n",
    "        # print 函数默认打印完后 会换行\n",
    "        print(row* col, end = \" \")\n",
    "    print(\"..\")\n"
   ]
  },
  {
   "cell_type": "markdown",
   "metadata": {},
   "source": [
    "# 参数详解\n",
    "  - 参数分类：\n",
    "      - 普通\n",
    "      - 默认\n",
    "      - 关键字\n",
    "      - 收集参数\n",
    " \n",
    "- 普通参数\n",
    "   - 参见上例\n",
    "   - 定义的时候直接定义变量名\n",
    "   - 调用的时候直接把变量或者值放入制定位置\n",
    "                           def 函数名（参数：参数1， 参数2........）：\n",
    "                       函数体\n",
    "                       \n",
    "                       \n",
    "                       # 调用\n",
    "                       函数名（value1,    value2.......）调用的时候，具体参考是按照位置进行赋值\n",
    "- 默认参数\n",
    "     - 形参 带有默认值\n",
    "     - 调用的时候 如果没有对相应形参赋值，则使用默认值\n",
    "     \n",
    "- 关键字参数\n",
    "    语法\n",
    "                 def func(p1=v1, p2=v2,.....):\n",
    "                     func_body\n",
    "                    \n",
    "                调用函数：#和默认函数不一样\n",
    "                func（p1= value1, p2= value2....）\n",
    "- 比较麻烦，但是有好处\n",
    "        - 不容易混淆，一般实参和形参只按照位置一一对应即可，容易出错\n",
    "        - 使用关键字参数，就可以不用考虑参数位置\n",
    "        "
   ]
  },
  {
   "cell_type": "markdown",
   "metadata": {},
   "source": [
    "# 默认参数\n",
    "- 形参带有默认值\n",
    "- 调用的时候，如果没有对相应形参赋值，则使用默认值\n",
    "- 好处就是可以偷懒\n",
    "      def  func_name(p1=v1, p2=v2..........):\n",
    "          func_block\n",
    "\n",
    "      #调用1\n",
    "      func_name()\n",
    "\n",
    "      # 调用2\n",
    "      value1= 100\n",
    "      value2= 200\n",
    "      func_name(value1,value2)"
   ]
  },
  {
   "cell_type": "code",
   "execution_count": 4,
   "metadata": {},
   "outputs": [
    {
     "name": "stdout",
     "output_type": "stream",
     "text": [
      "mingyue is 21, and he is a good student\n",
      "xiaojing is 23, and she is a good student\n"
     ]
    }
   ],
   "source": [
    "# 默认参数示例\n",
    "# 报名函数，需要知道学生性别\n",
    "# 学习python的学生基本都是男生，所以，报名的时候如果没有特别指定，我们任务是男生\n",
    "def reg(name, age, gender=\"male\"):# 也就是说形式参数带有自然意义，不需要实际参数\n",
    "    if gender == \"male\":\n",
    "        print(\"{0} is {1}, and he is a good student\".format(name, age))\n",
    "    else:\n",
    "        print(\"{0} is {1}, and she is a good student\".format(name, age))\n",
    "        # 调用默认参数函数案例1\n",
    "\n",
    "reg(\"mingyue\", 21)\n",
    "\n",
    "reg(\"xiaojing\", 23, \"female\")"
   ]
  },
  {
   "cell_type": "code",
   "execution_count": 2,
   "metadata": {},
   "outputs": [
    {
     "name": "stdout",
     "output_type": "stream",
     "text": [
      "i am a student\n",
      "my name is Roxy, my age is 14,and i stay at ezhou\n",
      "i am a student\n",
      "my name is Roxy, my age is 14,and i stay at ezhou\n"
     ]
    }
   ],
   "source": [
    "# 关键字参数\n",
    "def stu(name, age, addr):\n",
    "    print('i am a student')\n",
    "    print(\"my name is {0}, my age is {1},and i stay at {2}\" . format(name,age,addr) )\n",
    "\n",
    "n = \"Roxy\"\n",
    "a = 14\n",
    "add = \"ezhou\"\n",
    "\n",
    "# 普通参数，按照位置传递，容易出错\n",
    "stu(n,a,add)\n",
    "\n",
    "\n",
    "def stu_key(name=\"no man\", age=0, addr=\"adrd\"):   #等于号后面的内容并不重要\n",
    "    print('i am a student')\n",
    "    print(\"my name is {0}, my age is {1},and i stay at {2}\" . format(name, age,addr) ) #format 函数里的顺序不能轻易更改\n",
    "\n",
    "n = \"Roxy\"\n",
    "a = 14\n",
    "add = \"ezhou\"\n",
    "\n",
    "# 更换位置也不要紧\n",
    "stu_key(name=n,age=a,addr=add)\n",
    "\n"
   ]
  },
  {
   "cell_type": "markdown",
   "metadata": {},
   "source": [
    "## 收集参数\n",
    " - 把没有位置，不能和定义时的参数位置相对应的参数，放入一个特定的数据结构中\n",
    " - 语法\n",
    "            \n",
    "            \n",
    "            \n",
    "            def func(*args ):\n",
    "                 func_body \n",
    "             可以按照list使用方式访问args得到传入的参数\n",
    "                 \n",
    "            调用     \n",
    "            func(p1, p2, p3 .....)\n",
    "- 参数名没有一定要写args 但是推荐这样写 约定俗成\n",
    "- 参数名args前一定要有*\n",
    "- 收集参数可以和别的参数并存"
   ]
  },
  {
   "cell_type": "code",
   "execution_count": 18,
   "metadata": {},
   "outputs": [
    {
     "name": "stdout",
     "output_type": "stream",
     "text": [
      "hello 大家好\n",
      "<class 'tuple'>\n",
      "chenxi\n",
      "ezhou\n",
      "25\n",
      "Roxy\n",
      "single\n",
      "hello 大家好\n",
      "<class 'tuple'>\n",
      "chenxi\n"
     ]
    }
   ],
   "source": [
    "#收集参数实例\n",
    "# 模拟学生自我介绍，但是具体内容不清楚\n",
    "# 把args看作一个list\n",
    "def stu( *args):\n",
    "    print(\"hello 大家好\")\n",
    "    # type函数用来检测变量类型\n",
    "    print(type(args))\n",
    "    for item in args:\n",
    "        print(item)\n",
    "\n",
    "stu(\"chenxi\", \"ezhou\", 25, \"Roxy\", \"single\")\n",
    "stu(\"chenxi\")"
   ]
  },
  {
   "cell_type": "code",
   "execution_count": 19,
   "metadata": {},
   "outputs": [
    {
     "name": "stdout",
     "output_type": "stream",
     "text": [
      "hello 大家好\n",
      "<class 'tuple'>\n"
     ]
    }
   ],
   "source": [
    "# 收集参数案例\n",
    "# 说明收集参数可以不带任何实参调用，此时收集参数为空tuple\n",
    "stu()"
   ]
  },
  {
   "cell_type": "markdown",
   "metadata": {},
   "source": [
    "### 收集参数之关键字收集参数\n",
    "- 把关键字参数以字典的形式输入收集参数\n",
    "- 语法： \n",
    "\n",
    "\n",
    "\n",
    "\n",
    "            def func( **kwargs):\n",
    "                func body\n",
    "                \n",
    "                \n",
    "            调用：\n",
    "            func:(p1=v1, p2=v2, p3=v3....)\n",
    "- 调用的时候，把多余的关键字参数放入kwargs\n",
    "- 访问kwargs需要按照字典格式访问"
   ]
  },
  {
   "cell_type": "code",
   "execution_count": 33,
   "metadata": {},
   "outputs": [
    {
     "name": "stdout",
     "output_type": "stream",
     "text": [
      "大家好，先自我介绍一下\n",
      "<class 'dict'>\n",
      "name --- chenxi\n",
      "age --- 14\n",
      "lover --- Roxy\n",
      "work --- ITer\n",
      "**************************************************\n",
      "大家好，先自我介绍一下\n",
      "<class 'dict'>\n",
      "name --- 周大神\n"
     ]
    }
   ],
   "source": [
    "# 收集参数案例\n",
    "# 调用的时候使用关键字参数调用\n",
    "def stu(**kwargs):\n",
    "    # 在函数体内，对于kwargs的使用不用带**\n",
    "    print(\"大家好，先自我介绍一下\")\n",
    "    print(type(kwargs))\n",
    "    #对于字典的访问，python2 和python3有区别\n",
    "    for k,v in kwargs.items( ):\n",
    "        print(k,\"---\", v)\n",
    "    \n",
    "stu (name = \"chenxi\", age = 14, lover = \"Roxy\",work = \"ITer\")\n",
    "print(\"*\" * 50)\n",
    "\n",
    "stu(name=\"周大神\")"
   ]
  },
  {
   "cell_type": "markdown",
   "metadata": {},
   "source": [
    "## 收集参数的混合调用问题\n",
    "- 收集参数，关键字参数，普通参数可以混合调用\n",
    "- 使用规则：普通和关键字优先使用\n",
    "- 定义的时候一般找普通参数，关键字参数，收集参数tuple，收集参数dict"
   ]
  },
  {
   "cell_type": "code",
   "execution_count": 82,
   "metadata": {},
   "outputs": [
    {
     "name": "stdout",
     "output_type": "stream",
     "text": [
      "hello 大家好\n",
      "我叫chenxi, 我今年10岁。\n",
      "我没有爱好， so sorry\n",
      "********************\n",
      "####################\n",
      "hello 大家好\n",
      "我叫chenxi, 我今年10岁。\n",
      "我的爱好是swimming\n",
      "********************\n",
      "####################\n",
      "hello 大家好\n",
      "我叫chenxi, 我今年10岁。\n",
      "我的爱好是游泳\n",
      "********************\n",
      "王晓静\n",
      "刘石头\n",
      "####################\n",
      "hobby2 --- 烹饪\n",
      "hobby3 --- 跟不同女生聊天\n"
     ]
    }
   ],
   "source": [
    "# 收集参数混合调用实例\n",
    "# stu模拟学生的自我介绍\n",
    "def stu(name, age, *args, hobby = \"meiyou\", **kwargs ):\n",
    "    print(\"hello 大家好\")\n",
    "    print(\"我叫{0}, 我今年{1}岁。\" . format(name, age ))\n",
    "    if hobby == \"meiyou\":\n",
    "# 问题1：为什么if函数里的hobby和参数里的hobby  等于的内容不一样 就会出现else的情况：因为hobby 不== “meiyou” 所以else\n",
    "# 问题2: 为什么调用函数的时候没有提到hobby，系统会判断hobby == “meiyou”\n",
    "        print(\"我没有爱好， so sorry\")\n",
    "    else:\n",
    "        print(\"我的爱好是{0}\" . format(hobby))\n",
    "        \n",
    "    print(\"*\" * 20)\n",
    "    \n",
    "    for i in args:\n",
    "        print(i)\n",
    "    print(\"#\" * 20)\n",
    "    \n",
    "    for k,v in kwargs.items(): #注意kwargs的使用\n",
    "        print(k,\"---\",v)\n",
    "        \n",
    "# 开始调用\n",
    "name = \"chenxi\"\n",
    "age = 10\n",
    "# 问题2答案： 因为调用函数的时候如果没有hobby，那么自动认为hobby是 赋值的内容！！！\n",
    "stu(name, age, )\n",
    "\n",
    "stu(name, age, hobby = \"swimming\")\n",
    "\n",
    "\n",
    "\n",
    "stu(name, age, \"王晓静\", \"刘石头\", hobby=\"游泳\", hobby2=\"烹饪\", hobby3=\"跟不同女生聊天\")#从hobby2开始后面的内容都打包进kwargs里了"
   ]
  },
  {
   "cell_type": "markdown",
   "metadata": {},
   "source": [
    "### 收集参数的解包问题\n",
    "    - 把参数装入了list中，直接把list的值放入收集参数中\n",
    "    - 语法：案例"
   ]
  },
  {
   "cell_type": "code",
   "execution_count": 84,
   "metadata": {},
   "outputs": [
    {
     "name": "stdout",
     "output_type": "stream",
     "text": [
      "hhh\n",
      "<class 'list'>\n",
      "0\n",
      "['chenxi', 'Roxy', 13, 45]\n",
      "hhh\n",
      "<class 'str'>\n",
      "0\n",
      "chenxi\n",
      "<class 'str'>\n",
      "1\n",
      "Roxy\n",
      "<class 'int'>\n",
      "2\n",
      "13\n",
      "<class 'int'>\n",
      "3\n",
      "45\n"
     ]
    }
   ],
   "source": [
    "#收集参数的解包问题\n",
    "def stu(*args):\n",
    "    print(\"hhh\")\n",
    "    n = 0\n",
    "    for i in (args):\n",
    "        print(type(i))\n",
    "        print(n)\n",
    "        n += 1 # 用来显示循环的次数 主要用来调试\n",
    "        print(i)\n",
    "\n",
    "l = [\"chenxi\",\"Roxy\",13,45]\n",
    "stu (l)\n",
    "# 此时，args的表现形式是字典内一个list类型的元素 即：args = （（\"chenxi\",\"Roxy\",13,45），其他元素等）\n",
    "stu(*l)\n",
    "# 解包的概念在其他地方也可以用，即把一个类似“abc”这样的元素解包成'a' , 'b' , 'c'\n",
    "# 此时的调用，我们就需要解包符号，即调用的时候前面加一个星号!!"
   ]
  },
  {
   "cell_type": "markdown",
   "metadata": {},
   "source": [
    "### 同理 dict参数一样可以解包\n",
    "        - 但是需要两个**进行解包\n",
    "  \n",
    "## 返回值\n",
    " - 函数和过程的区别\n",
    "     - 有无返回值\n",
    "- 需要用return显示返回内容\n",
    "- 如果没有返回，则默认返回None\n",
    "- 推荐写法，无论有无返回值，最后都要以return 结束"
   ]
  },
  {
   "cell_type": "code",
   "execution_count": null,
   "metadata": {},
   "outputs": [],
   "source": [
    "# 返回值示例\n",
    "\n",
    "def func_1():\n",
    "    print(\"有返回值呀\")\n",
    "    return 1\n",
    "\n",
    "def func_2():\n",
    "    print(\"没有返回值\")\n",
    "    \n",
    "f1 = func_1()\n",
    "print(f1)\n",
    "\n",
    "f2 = func_2()\n",
    "print(f2)\n",
    "\n"
   ]
  },
  {
   "cell_type": "markdown",
   "metadata": {},
   "source": [
    "## 函数文档\n",
    "    - 函数文档的作用是对当前函数提供使用的相关参考信息\n",
    "    - 文档的写法：\n",
    "        - 在函数内部开始的第一行，使用三引号字符串定义符（三个引号）\n",
    "        - 一般具有特定格式\n",
    "        - 参看案例\n",
    "\n",
    "- 文档查看方法\n",
    "    - 使用help函数，形如help(func)\n",
    "    - 使用__doc__"
   ]
  },
  {
   "cell_type": "code",
   "execution_count": 90,
   "metadata": {},
   "outputs": [
    {
     "name": "stdout",
     "output_type": "stream",
     "text": [
      "Help on function stu in module __main__:\n",
      "\n",
      "stu(name, age, *args)\n",
      "    这是第一行\n",
      "    这是第二行\n",
      "    这是第三行\n",
      "\n"
     ]
    },
    {
     "data": {
      "text/plain": [
       "'\\n        这是第一行\\n        这是第二行\\n        这是第三行\\n        '"
      ]
     },
     "execution_count": 90,
     "metadata": {},
     "output_type": "execute_result"
    }
   ],
   "source": [
    "# 文档案例\n",
    "#stu模拟一个学生的自我介绍\n",
    "def stu(name, age, *args):\n",
    "        '''\n",
    "        这是第一行\n",
    "        这是第二行\n",
    "        这是第三行\n",
    "        '''\n",
    "        print(\"this is document \")\n",
    "help(stu)\n",
    "stu.__doc__"
   ]
  },
  {
   "cell_type": "code",
   "execution_count": 91,
   "metadata": {},
   "outputs": [
    {
     "name": "stdout",
     "output_type": "stream",
     "text": [
      "Help on function stu in module __main__:\n",
      "\n",
      "stu(name, age)\n",
      "    这是文档的文字内容\n",
      "    :param name: 表示学生的姓名 \n",
      "    :param age: 表示学生的年龄\n",
      "    :return: 此函数没有返回值\n",
      "\n",
      "None\n",
      "********************\n",
      "\n",
      "    这是文档的文字内容\n",
      "    :param name: 表示学生的姓名 \n",
      "    :param age: 表示学生的年龄\n",
      "    :return: 此函数没有返回值\n",
      "    \n"
     ]
    }
   ],
   "source": [
    "# pycharm 里会自动出现对于参数的说明\n",
    "def stu(name, age):\n",
    "    '''\n",
    "    这是文档的文字内容\n",
    "    :param name: 表示学生的姓名 \n",
    "    :param age: 表示学生的年龄\n",
    "    :return: 此函数没有返回值\n",
    "    '''\n",
    "    pass\n",
    "\n",
    "\n",
    "print(help(stu))\n",
    "\n",
    "print(\"*\" * 20)\n",
    "\n",
    "print(stu.__doc__)"
   ]
  }
 ],
 "metadata": {
  "kernelspec": {
   "display_name": "Python 3",
   "language": "python",
   "name": "python3"
  },
  "language_info": {
   "codemirror_mode": {
    "name": "ipython",
    "version": 3
   },
   "file_extension": ".py",
   "mimetype": "text/x-python",
   "name": "python",
   "nbconvert_exporter": "python",
   "pygments_lexer": "ipython3",
   "version": "3.6.5"
  }
 },
 "nbformat": 4,
 "nbformat_minor": 2
}
