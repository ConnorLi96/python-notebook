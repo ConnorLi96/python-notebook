{
 "cells": [
  {
   "cell_type": "markdown",
   "metadata": {},
   "source": [
    "# 注释\n",
    "# 1.给人看\n",
    "# 2.给机器看\n",
    "  - 给人看的注释 （给自然书写，机器不会执行）\n",
    "  - 注释的写法：\n",
    "       - 行注释：以#开头 可以单独行，也可以在某行代后面\n",
    "       - 块注释：好几行代码或者注释，以三个单引号开始到三个单引号结束\n",
    "       \n",
    "       \n",
    "       \n",
    "# 变量\n",
    " - 程序：数据结构➕算法\n",
    " - 变量：重复使用的一个量，或者只是一个代号\n",
    " - 变量命名的规则\n",
    "    - 变量命名可以包含数字，大小写字母，下划线或者更多。\n",
    "    - 数字不可以开头\n",
    "    - 在python中，以下划线开头具有特殊含义\n",
    "    - 大小写不一致，俗称大小写敏感\n",
    "   - 推荐：\n",
    "         - 1 使用具有特定英文含义和缩写，不然别人看不懂\n",
    "         - 2 驼峰命名法：名称以单词自动连接，且每个单词首字母大写\n",
    "                 - 大驼峰：每个单词首字母都大写  HelloWorld   (在python中给类命名都是用这种方法)\n",
    "                 - 小驼峰：第一个字母小写  helloWorld （一般给普通变量或者函数命名）\n",
    "         - 3 posix写法：\n",
    "                 - 多个单词都用下划线链接\n",
    "                 - 单词全部小写\n",
    "                 - my_first_love\n",
    " - 保留字和关键字：\n",
    "   - class， break，def （系统使用的）\n",
    "   - 需要避开保留字和关键字\n",
    "   - 查看方法：import keyword #引入关键字模块\n",
    "   \n",
    "   \n",
    "   # 变量声明\n",
    "    - var_name = var_value \n",
    "    - 一个等号表示赋值，把等号后面的变量加到前面的变量当中去。两个等号才是等于的意思。\n",
    "    - var1 = var2 = var3 = var_value 这三个变量都表示一个值 var_value\n",
    "    - var1, var2, var3 = v1, v2, v3 (一行内给多种变量赋值)、\n",
    "    - 例子如下\n",
    "\n"
   ]
  },
  {
   "cell_type": "code",
   "execution_count": 16,
   "metadata": {},
   "outputs": [
    {
     "name": "stdout",
     "output_type": "stream",
     "text": [
      "13\n",
      "14\n",
      "17\n"
     ]
    }
   ],
   "source": [
    "age1, age2, age3 = 14, 13, 17\n",
    "print(age2)\n",
    "print(age1)\n",
    "print(age3)"
   ]
  },
  {
   "cell_type": "markdown",
   "metadata": {},
   "source": [
    "\n",
    "## 变量的类型\n",
    "- 严格意义来讲，python只有一个类型\n",
    "- 标准来讲：数据类型只有6种\n",
    "     - 数字类型number\n",
    "     - 字符串类型str\n",
    "     - 列表list\n",
    "     - 元组tuple\n",
    "     - 字典 dictionary\n",
    "     - 集合 set\n",
    "     \n",
    "   ## number数字类型\n",
    " - 数字类型没有大小限制 和java不一样\n",
    "    ### 整数：\n",
    "    - 没有小数的部分 自然数，0，负自然数\n",
    "    - 二进制\n",
    "       - 机器常用 是机器唯一能用的进制\n",
    "       - 表示为0b开头的0，1代码\n",
    "       - 例如0b01101，ob10001\n",
    "    - 八进制\n",
    "       - 不常用\n",
    "       - 以0o开头，包括0-7\n",
    "    - 十六进制\n",
    "       - 逢16进1\n",
    "       - 每4个二进制可以用16进制的数给表示出来\n",
    "       - 包含0-9 ，a-f\n",
    "       - 数字上以0x表示"
   ]
  },
  {
   "cell_type": "code",
   "execution_count": 21,
   "metadata": {},
   "outputs": [
    {
     "name": "stdout",
     "output_type": "stream",
     "text": [
      "18\n"
     ]
    }
   ],
   "source": [
    "#二进制例子如下\n",
    "age = 0b10010\n",
    "print (age)"
   ]
  },
  {
   "cell_type": "markdown",
   "metadata": {},
   "source": [
    "### 浮点数\n",
    " - 小数\n",
    " - 计算机中表示浮点数可以有条件的省略\n",
    "    - 3.1415 == 3.\n",
    "    - 0.5 == .5\n",
    "- 科学技术法\n",
    "  - 定义和数学定义一致，小数点前只有一位，后面用10的多少次方来表示\n",
    "  - 写法用e/E后面要跟整数表示10的指数\n",
    "  - 176.23 == 1.7623e2     0.335 == 3.35e-1\n",
    "  \n",
    "  \n",
    "  \n",
    "### 负数complex\n",
    " - 定义和数学定义一致 \n",
    " - 一个由实部或虚部构成的数字\n",
    " - 虚部用j/J\n",
    " \n",
    "\n",
    "\n",
    "### 布尔值\n",
    "  - 表示真假的值\n",
    "  - 只有两个值 ：Ture/False \n",
    "  - python用1和0来表示 布尔值可以跟数字直接操作\n",
    "  "
   ]
  },
  {
   "cell_type": "code",
   "execution_count": 24,
   "metadata": {},
   "outputs": [
    {
     "name": "stdout",
     "output_type": "stream",
     "text": [
      "19\n"
     ]
    }
   ],
   "source": [
    "#布尔值例子\n",
    "age = 18 + True\n",
    "print(age)\n",
    "\n",
    "#单双引号交叉使用的例子\n"
   ]
  },
  {
   "cell_type": "markdown",
   "metadata": {},
   "source": [
    "## 字符串\n",
    "- 用来表示一串文字信息\n",
    "- 如何表示\n",
    "    - 单引号\n",
    "    - 双引号\n",
    "    - 三引号（三单或三双）\n",
    "       - 可以扩起多行信息\n",
    "- 单双引号交错使用"
   ]
  },
  {
   "cell_type": "markdown",
   "metadata": {},
   "source": [
    "# 字符串\n",
    "- 转义字符\n",
    "- 格式化\n",
    "- 内建函数（后延）\n",
    "\n",
    "  ## 转义字符\n",
    "  - 用特殊的方法表示出一系列不方便写出的内容，比如回车键，换行键，退格键\n",
    "  - 借助反斜杠字符，一旦字符串中出现反斜杠，则后面的字符不再是原来的意思了，进行了转义。\n",
    "  - 在字符串中，一旦出现了反斜杠就要加倍小心，可能会有转义字符出现。\n",
    "  - 不同系统对于不同的回车换行符有不一样的理解\n",
    "       - window：\\n\n",
    "       - linux: \\r\\n\n",
    "       "
   ]
  },
  {
   "cell_type": "code",
   "execution_count": 10,
   "metadata": {},
   "outputs": [
    {
     "name": "stdout",
     "output_type": "stream",
     "text": [
      "let's go\n",
      "i love \r\n",
      " you \n"
     ]
    }
   ],
   "source": [
    "# 1.可以使用嵌套引号,即外层使用双引号\n",
    "# 2.转义字符 （反斜杠后面的一个或者几个字符都不是原来的意思了）\n",
    "\n",
    "s = 'let\\'s go'  \n",
    "print (s) \n",
    "\n",
    "# \\\\ == \\ （如果真的想表达一个反斜杠）\n",
    "\n",
    "# 回撤换行符  \\r\\n\n",
    "\n",
    "s1 = \"i love \\r\\n you \"\n",
    "print(s1)"
   ]
  },
  {
   "cell_type": "markdown",
   "metadata": {},
   "source": [
    "## 字符串的格式化\n",
    " - 把字符串按照一定格式打印或者填充\n",
    " - 一般有两种方法\n",
    "    - 利用百分号 %\n",
    "        - 在字符串中，利用%表示一个特殊的含义，表示对其的格式化\n",
    "        - %d：此处应该放入一个整数\n",
    "        - %s：此处应该放入一个字符串\n",
    "    - 利用format函数"
   ]
  },
  {
   "cell_type": "code",
   "execution_count": 4,
   "metadata": {},
   "outputs": [
    {
     "name": "stdout",
     "output_type": "stream",
     "text": [
      "i love Roxy\n"
     ]
    }
   ],
   "source": [
    "# s = \"xxx 您好，免费开课了\"\n",
    "\n",
    "s = \"i love %s\"\n",
    "#下面打印直接把%5作为内容打出来了\n",
    "print(s%\"Roxy\")"
   ]
  },
  {
   "cell_type": "code",
   "execution_count": 55,
   "metadata": {},
   "outputs": [
    {
     "name": "stdout",
     "output_type": "stream",
     "text": [
      "I love  Roxy  \n"
     ]
    }
   ],
   "source": [
    "print( \"I love %s \" %\" Roxy \")\n"
   ]
  },
  {
   "cell_type": "code",
   "execution_count": 28,
   "metadata": {},
   "outputs": [
    {
     "name": "stdout",
     "output_type": "stream",
     "text": [
      "i am %d years old\n",
      "i am 18 years old\n"
     ]
    }
   ],
   "source": [
    "s = \"i am %d years old\"\n",
    "# 留意下面两句话的可能和结果\n",
    "print(s)\n",
    "print(s%18)\n",
    "\n"
   ]
  },
  {
   "cell_type": "code",
   "execution_count": 34,
   "metadata": {},
   "outputs": [
    {
     "name": "stdout",
     "output_type": "stream",
     "text": [
      "I am lichenxi , I am 18 years old\n"
     ]
    }
   ],
   "source": [
    "s = \"I am %s , I am %d years old\"\n",
    "# 注意以下表达的错误\n",
    "# 如果字符串中有占位符，则有几个占位符必须用几个实际内容代替，或者一个也不要\n",
    "# print(s%\"lichenxi\")\n",
    "\n",
    "# 如果出现多个占位符，则相应的内容需要用括号括起来\n",
    "print(s%  (\"lichenxi\" , 18 ))"
   ]
  },
  {
   "cell_type": "markdown",
   "metadata": {},
   "source": [
    "### format 格式化\n",
    " - 推荐使用这种方法\n",
    " - 直接使用这种方式格式化\n",
    " - 在使用上以{}和：代替%，后面用format带参数完成"
   ]
  },
  {
   "cell_type": "code",
   "execution_count": 54,
   "metadata": {},
   "outputs": [
    {
     "name": "stdout",
     "output_type": "stream",
     "text": [
      "I love  Roxy\n",
      "yes, I am 18 years old, I love Roxy and I am 18 years old\n"
     ]
    }
   ],
   "source": [
    "s =  \"I love  {}\" . format(\"Roxy\")\n",
    "print(s)\n",
    "\n",
    "# 顺序从0开始\n",
    "s = \"yes, I am {1} years old, I love {0} and I am {1} years old\". format(\"Roxy\" , 18)\n",
    "print (s)"
   ]
  },
  {
   "cell_type": "markdown",
   "metadata": {},
   "source": [
    "## none\n",
    "   - 表示什么都没有\n",
    "   - 如果函数没有返回值，可以返回 none\n",
    "   - 用来占位置\n",
    "   - 用来接触变量绑定"
   ]
  },
  {
   "cell_type": "markdown",
   "metadata": {},
   "source": [
    "# 表达式\n",
    "- 由一个或者几个数字或者变量和运算符组合成的一行代码\n",
    "- 通常会返回一个结果\n",
    "# 运算符\n",
    " - 由一个以上的值经过运算以后得到新值的过程叫做运算\n",
    " - 用于运算的符号叫做运算符\n",
    "  - 运算符分类：\n",
    "    - 算数运算符\n",
    "    - 比较或者关系运算符\n",
    "    - 赋值运算符\n",
    "    - 位运算\n",
    "    - 成员运算符\n",
    "    - 逻辑运算符\n",
    "    - 身份运算符"
   ]
  },
  {
   "cell_type": "markdown",
   "metadata": {},
   "source": [
    "## 算数运算符 \n",
    "  - 进行算数运算的符号\n",
    "  - python没有自增自减运算符"
   ]
  },
  {
   "cell_type": "code",
   "execution_count": 7,
   "metadata": {},
   "outputs": [
    {
     "name": "stdout",
     "output_type": "stream",
     "text": [
      "10\n",
      "56\n",
      "2.25\n",
      "1\n",
      "2\n",
      "6561\n"
     ]
    }
   ],
   "source": [
    "# +，-和正常运算符一摸一样\n",
    "a = 9+3-2\n",
    "print(a)\n",
    "# 称号用星号（*）代替\n",
    "a = 7*8\n",
    "print(a)\n",
    "# 除号用斜杠代替（/）\n",
    "a = 9/4\n",
    "print(a)\n",
    "# 在python2 和python3 是不一样的 2里面会是2（因为四舍五入）\n",
    "\n",
    "\n",
    "# % 取余运算 （两数相除应该有商数也应该有余数）\n",
    "a = 9%4\n",
    "print (a)\n",
    "\n",
    "\n",
    "# // 表示取商运算 ，也叫地板除\n",
    "a = 9//4\n",
    "print (a)\n",
    "\n",
    "\n",
    "# **表示幂运算\n",
    "a = 9**4   \n",
    "print(a)\n"
   ]
  },
  {
   "cell_type": "markdown",
   "metadata": {},
   "source": [
    "# 比较运算符\n",
    " - 对两个变量或者值进行比较的\n",
    " - 比较的结果是布尔值 True或者False\n"
   ]
  },
  {
   "cell_type": "code",
   "execution_count": 29,
   "metadata": {},
   "outputs": [
    {
     "name": "stdout",
     "output_type": "stream",
     "text": [
      "False\n",
      "True\n"
     ]
    }
   ],
   "source": [
    "# == ，等于号\n",
    "a = 3**4\n",
    "b = a ==80\n",
    "# 下面语句的执行书序是\n",
    "# 1，计算a==80 \n",
    "# 2，把结果放入b中\n",
    "print(b)\n",
    "\n",
    "\n",
    "# != 不等于\n",
    "print( 9 != 8 ) #注意！  ！和=之间没有空格\n",
    "\n",
    "\n",
    "# >大于\n",
    "# <小于\n",
    "# >= 大于等于\n",
    "# <=小于等于"
   ]
  },
  {
   "cell_type": "markdown",
   "metadata": {},
   "source": [
    "## 赋值运算符\n"
   ]
  },
  {
   "cell_type": "code",
   "execution_count": 36,
   "metadata": {},
   "outputs": [
    {
     "name": "stdout",
     "output_type": "stream",
     "text": [
      "8\n"
     ]
    }
   ],
   "source": [
    "# = ，赋值\n",
    "\n",
    "# +=，是缩写\n",
    "a = 1 \n",
    "a  +=7  #a = a+7\n",
    "print(a)\n",
    "\n",
    "\n",
    "# 所有的数学运算符都会有这种运算形式\n",
    "# -=，*=，**=, %=, /=  都是缩写形式\n"
   ]
  },
  {
   "cell_type": "markdown",
   "metadata": {},
   "source": [
    "## 逻辑运算符\n",
    " - 对布尔值进行运算的符号\n",
    " - and的逻辑与\n",
    " - or逻辑或\n",
    " - not逻辑非\n",
    " - python中的逻辑运算没有异或运算\n",
    "  - 运算规则\n",
    "       - and看作乘法， or看作加法\n",
    "       - True看作是1，False看作是0\n",
    "       - 则逻辑运算就可以转换成整数数学运算\n",
    "       - 最后结果如果是0则为False，否则则为True\n",
    "       \n",
    "       \n",
    " - 逻辑运算的短路问题\n",
    "     - 逻辑运算式， 按照运算顺序计算，一旦能够确定整个式子未来的值，则不再进行计算，直接返回\n",
    "     "
   ]
  },
  {
   "cell_type": "code",
   "execution_count": 37,
   "metadata": {},
   "outputs": [
    {
     "name": "stdout",
     "output_type": "stream",
     "text": [
      "True\n"
     ]
    }
   ],
   "source": [
    "# 逻辑运算符实例\n",
    "a = True\n",
    "b = False\n",
    "c = True\n",
    "# 以下式子等于 d = 1 * 0 + 1\n",
    "d = a and b or c\n",
    "print(d)"
   ]
  },
  {
   "cell_type": "code",
   "execution_count": 39,
   "metadata": {},
   "outputs": [
    {
     "name": "stdout",
     "output_type": "stream",
     "text": [
      "True\n"
     ]
    }
   ],
   "source": [
    "# 短路例子\n",
    "\n",
    "\n",
    "# 以下式子a 的值一定是True，则运算到or 的时候，就不会往下了，因为不论后面如何，结果都是True\n",
    "a = True or xxxxxxxx\n",
    "print(a)\n",
    "\n",
    "# 如果（xxxxxx）出现了赋值运算，则结果很难预期\n"
   ]
  },
  {
   "cell_type": "markdown",
   "metadata": {},
   "source": [
    "## 成员运算符号\n",
    " - 用来检测一个变量是否是另一个变量的成员\n",
    " - in\n",
    " - not in\n",
    " "
   ]
  },
  {
   "cell_type": "code",
   "execution_count": 44,
   "metadata": {},
   "outputs": [
    {
     "name": "stdout",
     "output_type": "stream",
     "text": [
      "False\n",
      "True\n"
     ]
    }
   ],
   "source": [
    "# 案例\n",
    "l = [1,2,3,4,5]\n",
    "a = 7 \n",
    "print(a in l)\n",
    "\n",
    "print (a not in l)"
   ]
  },
  {
   "cell_type": "markdown",
   "metadata": {},
   "source": [
    "## 身份运算符号\n",
    " - is：用了检测两个变量是否是同一个变量\n",
    "        - 语法就是var1 = var2\n",
    " - is not 两个变量不是同一个变量\n",
    "  "
   ]
  },
  {
   "cell_type": "code",
   "execution_count": 46,
   "metadata": {},
   "outputs": [
    {
     "name": "stdout",
     "output_type": "stream",
     "text": [
      "False\n"
     ]
    }
   ],
   "source": [
    "a = \"I love  Roxy\"\n",
    "b = \"I love  Roxy\"\n",
    "print (a is b)\n",
    "#  后面讲"
   ]
  },
  {
   "cell_type": "markdown",
   "metadata": {},
   "source": [
    "## 运算符的优先级问题\n",
    "- 永远记住（括号）具有最高运算级\n",
    " - 优先级表格"
   ]
  },
  {
   "cell_type": "markdown",
   "metadata": {},
   "source": [
    "# 程序结构\n",
    " - 顺序\n",
    " - 分支 根据情况进行不同的选择\n",
    " - 循环"
   ]
  },
  {
   "cell_type": "markdown",
   "metadata": {},
   "source": [
    "# 分支\n",
    "   - 分支的基本语法\n",
    "         - if 条件表达式：\n",
    "              语句1\n",
    "              语句2\n",
    "              语句3\n",
    "              。。。。。\n",
    "   - 条件表达式就是结果必须为布尔值的表达式\n",
    "   - 表达式后面的冒号不能少，if后面要有空格\n",
    "   - 注意if 后面出现的语句，如果if属于语句块，则必须同一个缩进等级\n",
    "   - 条件表达式结果为True执行if后面的缩进语句块"
   ]
  },
  {
   "cell_type": "code",
   "execution_count": 53,
   "metadata": {},
   "outputs": [
    {
     "name": "stdout",
     "output_type": "stream",
     "text": [
      "kaichele\n"
     ]
    }
   ],
   "source": [
    "# if语句练习\n",
    "# 如果age小于18岁，则打印信息去掉家长\n",
    "age = 19\n",
    "if age < 18 :\n",
    "    print(\"去叫家长吧，孩子\")\n",
    "    print(\"我们不带你玩\")\n",
    "    print(\"gun~\")\n",
    "\n",
    "print(\"kaichele\")\n",
    "# if语句下面的一句话是与if平级的下一句，如果为False就执行它"
   ]
  },
  {
   "cell_type": "markdown",
   "metadata": {},
   "source": [
    "### 双向分支\n",
    " - if...else...语句\n",
    "             if 条件表达式：\n",
    "                     语句1\n",
    "                     语句2\n",
    "                     ....\n",
    "             else :\n",
    "                     语句1\n",
    "                     语句2\n",
    "                     ....\n",
    "- 双向分支有两个分支，当程序执行if...else...语句的时候，一定会执行其中一个，也只执行一个。\n",
    "- 缩进问题，if和else是一个层级，其他的语句块是一个层级。"
   ]
  },
  {
   "cell_type": "code",
   "execution_count": null,
   "metadata": {},
   "outputs": [],
   "source": [
    "# input 的作用\n",
    " # 1. 在屏幕上输出括号内的字符串\n",
    "# 2. 接受用户输入的内容并返回到程序\n",
    "# 3.input返回的内容一定是字符串类型\n",
    "gender = input(\"请输入你的性别\")\n",
    "print(\"你的性别是：{0}\". format(gender))\n",
    "\n",
    "if gender == \"nan\":\n",
    "    print(\"代码敲十遍\") \n",
    "else:\n",
    "    print(\"发糖了\")\n",
    "print(\"开始上课了\")"
   ]
  },
  {
   "cell_type": "code",
   "execution_count": null,
   "metadata": {},
   "outputs": [],
   "source": [
    "# 考试成绩判断\n",
    "# 90以上：输出优秀\n",
    "# 80～90：良\n",
    "# 70～80: 中\n",
    "# 60～70: pass\n",
    "\n",
    "\n",
    "# 注意input的返回值类型\n",
    "score = input(\"请输入学生成绩:\")\n",
    "# 需要把str转换成int   就是把字符串转换成数字\n",
    "score = int(score)\n",
    "\n",
    "if score >=90: \n",
    "    print(\"A\")\n",
    "if score >= 80  and  socre < 90:\n",
    "    print(\"B\")\n",
    "if score >=70  and  score < 80:\n",
    "    print (\"C\")\n",
    "if score < 70:\n",
    "    print(\"没你这学生\")\n",
    "    \n"
   ]
  },
  {
   "cell_type": "markdown",
   "metadata": {},
   "source": [
    "## 多路分支\n",
    "- 很多分支的情况，简称多路分支\n",
    "                    if 条件表达式：\n",
    "                    语句1\n",
    "                    elif 条件表达式：\n",
    "                    语句1\n",
    "                    elif 条件表达式：\n",
    "                    语句1\n",
    "                    ...\n",
    "                    else 条件表达式：\n",
    "                    \n",
    "- 多路分支只会选一个执行\n",
    "- elif可以有很多个\n",
    "- else可以没有\n",
    "\n",
    "## if语句其他\n",
    " - if可以嵌套使用，但是不推荐\n",
    " - python语句里swtich-case语句"
   ]
  },
  {
   "cell_type": "code",
   "execution_count": null,
   "metadata": {},
   "outputs": [],
   "source": [
    "score = input(\"请输入学生成绩:\")\n",
    "# 需要把str转换成int   就是把字符串转换成数字\n",
    "score = int(score)\n",
    "\n",
    "if score >=90: \n",
    "    print(\"A\")\n",
    "elif score >= 80: \n",
    "    print(\"B\")\n",
    "elif score >=70:\n",
    "    print (\"C\")\n",
    "else :\n",
    "    print(\"没你这学生\")"
   ]
  },
  {
   "cell_type": "markdown",
   "metadata": {},
   "source": [
    "## 循环语句\n",
    "- 重复执行某些固定的动作或者处理基本固定的事务\n",
    "- 分类\n",
    "       - for循环\n",
    "       - while 循环\n",
    "\n",
    "\n",
    "## for循环\n",
    "  - for循环\n",
    "  \n",
    "                          for 变量 in 序列\n",
    "                          语句1\n",
    "                          语句2\n",
    "                          ..."
   ]
  },
  {
   "cell_type": "code",
   "execution_count": 140,
   "metadata": {},
   "outputs": [
    {
     "name": "stdout",
     "output_type": "stream",
     "text": [
      "shangsan\n",
      "lisi\n",
      "wangwu\n",
      "Roxy\n"
     ]
    }
   ],
   "source": [
    "# 列表就是一列数字或者其他的值，一般用中括号表示\n",
    "# 例如['shangsan' ,'lisi' , 'wangwu'，‘zhaoliu‘]\n",
    "\n",
    "# 打印学生列表姓名\n",
    "for name in ['shangsan' ,'lisi' ,'wangwu', 'Roxy' ]:\n",
    "    print(name)"
   ]
  },
  {
   "cell_type": "code",
   "execution_count": 1,
   "metadata": {},
   "outputs": [
    {
     "name": "stdout",
     "output_type": "stream",
     "text": [
      "zhangsan\n",
      "同学你好，我们不约，请自重\n",
      "lisi\n",
      "同学你好，我们不约，请自重\n",
      "wangwu\n",
      "同学你好，我们不约，请自重\n",
      "Roxy\n",
      "我的最爱Roxy出现了\n"
     ]
    }
   ],
   "source": [
    "# 如果是Roxy当然是我的最爱\n",
    "# 如果是别的学生，肯定要冷酷的拒绝他\n",
    "for name in ['zhangsan' ,'lisi' ,'wangwu', 'Roxy' ]:\n",
    "    print(name)\n",
    "    if name ==  \"Roxy\":\n",
    "         print ('我的最爱{0}出现了' .format(name))\n",
    "    else :\n",
    "         print (\"同学你好，我们不约，请自重\")"
   ]
  },
  {
   "cell_type": "markdown",
   "metadata": {},
   "source": [
    "## range 介绍\n",
    " - 具体范围可以设置\n",
    " - 生成一个数字序列"
   ]
  },
  {
   "cell_type": "code",
   "execution_count": 138,
   "metadata": {},
   "outputs": [
    {
     "name": "stdout",
     "output_type": "stream",
     "text": [
      "1\n",
      "2\n",
      "3\n",
      "4\n",
      "5\n",
      "6\n",
      "7\n",
      "8\n",
      "9\n"
     ]
    }
   ],
   "source": [
    "# range练习\n",
    "# 打印1-10的数字\n",
    "# 注意！！ 在python中，如果有表示数字范围的两个数，一般是包含左边的数字不包含右边的数字。\n",
    "# randint是特例，左右都包含\n",
    "# range函数在python2和3中有很大区别。\n",
    "for i in range(1,10):\n",
    "    print(i)"
   ]
  },
  {
   "cell_type": "markdown",
   "metadata": {},
   "source": [
    "## for-else语句\n",
    "- 当for结束时，会执行else语句\n",
    "- else是可选的\n"
   ]
  },
  {
   "cell_type": "code",
   "execution_count": 150,
   "metadata": {},
   "outputs": [
    {
     "name": "stdout",
     "output_type": "stream",
     "text": [
      "shangsan\n",
      "同学你好，我们不约，请自重\n",
      "lisi\n",
      "同学你好，我们不约，请自重\n",
      "wangwu\n",
      "同学你好，我们不约，请自重\n",
      "Roxy\n",
      "我的最爱Roxy出现了\n",
      "别的都不是我的学生，不爱了\n"
     ]
    }
   ],
   "source": [
    "# for-else语句\n",
    "# 打印列表中的同学\n",
    "# 如果没有在列表中，或者列表结束了，我们需要打印提示语句，表示不再爱了\n",
    "\n",
    "for name in ['shangsan' ,'lisi' ,'wangwu', 'Roxy' ]:\n",
    "    print(name)\n",
    "    if name ==  \"Roxy\":\n",
    "         print ('我的最爱{0}出现了' .format(name))\n",
    "    else :\n",
    "         print (\"同学你好，我们不约，请自重\")\n",
    "else: \n",
    "    print(\"别的都不是我的学生，不爱了\")"
   ]
  },
  {
   "cell_type": "markdown",
   "metadata": {},
   "source": [
    "## for循环之break， contineu， pass\n",
    "- break表示无条件结束所有语句，简称循环猝死\n",
    "- contineu 无条件结束本次循环，重新进入下一轮循环\n",
    "- pass 表示路过\n"
   ]
  },
  {
   "cell_type": "code",
   "execution_count": 160,
   "metadata": {},
   "outputs": [
    {
     "name": "stdout",
     "output_type": "stream",
     "text": [
      "1\n",
      "2\n",
      "3\n",
      "4\n",
      "5\n",
      "6\n",
      "wozhaodaole\n"
     ]
    }
   ],
   "source": [
    "# 再1-10 的数字中，寻找数字7号，一旦找到，打印出来，不需要做别的\n",
    "# 在for 循环中的变量表示，一般用i，k，m，n或者indx，idx，item之类的\n",
    "# 在python中，如果循环变量的名称不重要，可以用（_）下划线表示\n",
    "for i in range (1,11):\n",
    "    if i == 7:\n",
    "        print(\"wozhaodaole\")\n",
    "        break\n",
    "    else:\n",
    "        print(i)"
   ]
  },
  {
   "cell_type": "code",
   "execution_count": 162,
   "metadata": {},
   "outputs": [
    {
     "name": "stdout",
     "output_type": "stream",
     "text": [
      "2是偶数\n",
      "4是偶数\n",
      "6是偶数\n",
      "8是偶数\n",
      "10是偶数\n"
     ]
    }
   ],
   "source": [
    "# contineu语句练习\n",
    "# 再1-10 的数字中，寻找所有偶数，找到偶数后打印出来\n",
    "for i in range (1,11):\n",
    "    if i % 2 == 1:\n",
    "        continue\n",
    "    else:\n",
    "        print(\"{0}是偶数\".format(i))"
   ]
  },
  {
   "cell_type": "code",
   "execution_count": 163,
   "metadata": {},
   "outputs": [
    {
     "name": "stdout",
     "output_type": "stream",
     "text": [
      "2是偶数\n",
      "4是偶数\n",
      "6是偶数\n",
      "8是偶数\n",
      "10是偶数\n"
     ]
    }
   ],
   "source": [
    "# contineu语句练习  版本2！\n",
    "# 再1-10 的数字中，寻找所有偶数，找到偶数后打印出来\n",
    "for i in range (1,11):\n",
    "    if i % 2 == 0:\n",
    "        print(\"{0}是偶数\".format(i))"
   ]
  },
  {
   "cell_type": "code",
   "execution_count": 170,
   "metadata": {},
   "outputs": [
    {
     "name": "stdout",
     "output_type": "stream",
     "text": [
      "2是偶数\n",
      "4是偶数\n",
      "6是偶数\n",
      "8是偶数\n",
      "10是偶数\n"
     ]
    }
   ],
   "source": [
    "# contineu语句练习  版本3！\n",
    "# 再1-10 的数字中，寻找所有偶数，找到偶数后打印出来\n",
    "for i in range (1,11):\n",
    "    if i % 2 == 1:\n",
    "        continue\n",
    "        \n",
    "    print(\"{0}是偶数\".format(i))\n"
   ]
  },
  {
   "cell_type": "markdown",
   "metadata": {},
   "source": [
    "## pass例子，一般用于占位"
   ]
  },
  {
   "cell_type": "code",
   "execution_count": null,
   "metadata": {},
   "outputs": [],
   "source": [
    "# pass例子\n",
    "# pass没有跳过功能\n",
    "for i in range(1,11):\n",
    "    pass"
   ]
  }
 ],
 "metadata": {
  "kernelspec": {
   "display_name": "Python 3",
   "language": "python",
   "name": "python3"
  },
  "language_info": {
   "codemirror_mode": {
    "name": "ipython",
    "version": 3
   },
   "file_extension": ".py",
   "mimetype": "text/x-python",
   "name": "python",
   "nbconvert_exporter": "python",
   "pygments_lexer": "ipython3",
   "version": "3.6.5"
  }
 },
 "nbformat": 4,
 "nbformat_minor": 2
}
